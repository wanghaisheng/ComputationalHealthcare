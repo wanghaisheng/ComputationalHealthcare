{
 "cells": [
  {
   "cell_type": "markdown",
   "metadata": {},
   "source": [
    "<center><h1>Exploring protocol buffers for OHDSI Common Data Model</h1></center>"
   ]
  },
  {
   "cell_type": "code",
   "execution_count": 9,
   "metadata": {
    "collapsed": false
   },
   "outputs": [],
   "source": [
    "import glob,gzip\n",
    "from collections import defaultdict\n",
    "def load_data():\n",
    "    data = defaultdict(dict)\n",
    "    for fname in glob.glob('ohdsi_synthetic_data/*.gz'):\n",
    "        with gzip.open(fname) as fh:\n",
    "            fname = fname.split('/')[-1].split('.')[0]\n",
    "            data[fname]['keys'] = fh.readline().strip()\n",
    "            data[fname]['entries'] = [line.strip().split(',') for line in fh]\n",
    "    return data\n",
    "data = load_data()        "
   ]
  },
  {
   "cell_type": "code",
   "execution_count": 15,
   "metadata": {
    "collapsed": false
   },
   "outputs": [
    {
     "name": "stdout",
     "output_type": "stream",
     "text": [
      "-rwxr-xr-x@ 1 aub3  staff   2.5M May 14  2016 \u001b[31mohdsi_synthetic_data/CDM_CONDITION_OCCURRENCE.csv.gz\u001b[m\u001b[m\r\n",
      "-rwxr-xr-x@ 1 aub3  staff   1.1M May 14  2016 \u001b[31mohdsi_synthetic_data/CDM_DRUG_EXPOSURE.csv.gz\u001b[m\u001b[m\r\n",
      "-rwxr-xr-x@ 1 aub3  staff   1.0M May 14  2016 \u001b[31mohdsi_synthetic_data/CDM_VISIT_OCCURRENCE.csv.gz\u001b[m\u001b[m\r\n",
      "-rwxr-xr-x@ 1 aub3  staff   997K May 14  2016 \u001b[31mohdsi_synthetic_data/CDM_CONDITION_ERA.csv.gz\u001b[m\u001b[m\r\n",
      "-rwxr-xr-x@ 1 aub3  staff   989K May 14  2016 \u001b[31mohdsi_synthetic_data/CDM_PROCEDURE_OCCURRENCE.csv.gz\u001b[m\u001b[m\r\n",
      "-rwxr-xr-x@ 1 aub3  staff   510K May 14  2016 \u001b[31mohdsi_synthetic_data/CDM_DRUG_ERA.csv.gz\u001b[m\u001b[m\r\n",
      "-rwxr-xr-x@ 1 aub3  staff   415K May 14  2016 \u001b[31mohdsi_synthetic_data/CDM_PROVIDER.csv.gz\u001b[m\u001b[m\r\n",
      "-rwxr-xr-x@ 1 aub3  staff   205K May 14  2016 \u001b[31mohdsi_synthetic_data/CDM_OBSERVATION.csv.gz\u001b[m\u001b[m\r\n",
      "-rwxr-xr-x@ 1 aub3  staff   173K May 14  2016 \u001b[31mohdsi_synthetic_data/CDM_CARE_SITE.csv.gz\u001b[m\u001b[m\r\n",
      "-rwxr-xr-x@ 1 aub3  staff    43K May 14  2016 \u001b[31mohdsi_synthetic_data/CDM_MEASUREMENT.csv.gz\u001b[m\u001b[m\r\n",
      "-rwxr-xr-x@ 1 aub3  staff    22K May 14  2016 \u001b[31mohdsi_synthetic_data/CDM_DEVICE_EXPOSURE.csv.gz\u001b[m\u001b[m\r\n",
      "-rwxr-xr-x@ 1 aub3  staff    21K May 12  2016 \u001b[31mohdsi_synthetic_data/CDM_PERSON.csv.gz\u001b[m\u001b[m\r\n",
      "-rwxr-xr-x@ 1 aub3  staff   7.0K Jul  6  2015 \u001b[31mohdsi_synthetic_data/CDM_LOCATION.csv.gz\u001b[m\u001b[m\r\n",
      "-rwxr-xr-x@ 1 aub3  staff   5.9K May 16  2016 \u001b[31mohdsi_synthetic_data/CDM_OBSERVATION_PERIOD.csv.gz\u001b[m\u001b[m\r\n",
      "-rwxr-xr-x@ 1 aub3  staff   354B May 14  2016 \u001b[31mohdsi_synthetic_data/CDM_DEATH.csv.gz\u001b[m\u001b[m\r\n"
     ]
    }
   ],
   "source": [
    "!ls -lhS ohdsi_synthetic_data/*.gz"
   ]
  },
  {
   "cell_type": "code",
   "execution_count": 13,
   "metadata": {
    "collapsed": false
   },
   "outputs": [
    {
     "name": "stdout",
     "output_type": "stream",
     "text": [
      "CDM_LOCATION 626 LOCATION_ID,ADDRESS_1,ADDRESS_2,CITY,STATE,ZIP,COUNTY,LOCATION_SOURCE_VALUE\n",
      "\n",
      "CDM_PERSON 1000 PERSON_ID,GENDER_CONCEPT_ID,YEAR_OF_BIRTH,MONTH_OF_BIRTH,DAY_OF_BIRTH,TIME_OF_BIRTH,RACE_CONCEPT_ID,ETHNICITY_CONCEPT_ID,LOCATION_ID,PROVIDER_ID,CARE_SITE_ID,PERSON_SOURCE_VALUE,GENDER_SOURCE_VALUE,GENDER_SOURCE_CONCEPT_ID,RACE_SOURCE_VALUE,RACE_SOURCE_CONCEPT_ID,ETHNICITY_SOURCE_VALUE,ETHNICITY_SOURCE_CONCEPT_ID\n",
      "\n",
      "CDM_MEASUREMENT 2858 MEASUREMENT_ID,PERSON_ID,MEASUREMENT_CONCEPT_ID,MEASUREMENT_DATE,MEASUREMENT_TIME,MEASUREMENT_TYPE_CONCEPT_ID,OPERATOR_CONCEPT_ID,VALUE_AS_NUMBER,VALUE_AS_CONCEPT_ID,UNIT_CONCEPT_ID,RANGE_LOW,RANGE_HIGH,PROVIDER_ID,VISIT_OCCURRENCE_ID,MEASUREMENT_SOURCE_VALUE,MEASUREMENT_SOURCE_CONCEPT_ID,UNIT_SOURCE_VALUE,VALUE_SOURCE_VALUE\n",
      "\n",
      "CDM_DRUG_ERA 52714 DRUG_ERA_ID,PERSON_ID,DRUG_CONCEPT_ID,DRUG_ERA_START_DATE,DRUG_ERA_END_DATE,DRUG_EXPOSURE_COUNT,GAP_DAYS\r\n",
      "\n",
      "CDM_PROCEDURE_OCCURRENCE 62189 PROCEDURE_OCCURRENCE_ID,PERSON_ID,PROCEDURE_CONCEPT_ID,PROCEDURE_DATE,PROCEDURE_TYPE_CONCEPT_ID,MODIFIER_CONCEPT_ID,QUANTITY,PROVIDER_ID,VISIT_OCCURRENCE_ID,PROCEDURE_SOURCE_VALUE,PROCEDURE_SOURCE_CONCEPT_ID,QUALIFIER_SOURCE_VALUE\n",
      "\n",
      "CDM_DRUG_EXPOSURE 49542 DRUG_EXPOSURE_ID,PERSON_ID,DRUG_CONCEPT_ID,DRUG_EXPOSURE_START_DATE,DRUG_EXPOSURE_END_DATE,DRUG_TYPE_CONCEPT_ID,STOP_REASON,REFILLS,QUANTITY,DAYS_SUPPLY,SIG,ROUTE_CONCEPT_ID,EFFECTIVE_DRUG_DOSE,DOSE_UNIT_CONCEPT_ID,LOT_NUMBER,PROVIDER_ID,VISIT_OCCURRENCE_ID,DRUG_SOURCE_VALUE,DRUG_SOURCE_CONCEPT_ID,ROUTE_SOURCE_VALUE,DOSE_UNIT_SOURCE_VALUE\n",
      "\n",
      "CDM_DEVICE_EXPOSURE 1622 DEVICE_EXPOSURE_ID,PERSON_ID,DEVICE_CONCEPT_ID,DEVICE_EXPOSURE_START_DATE,DEVICE_EXPOSURE_END_DATE,DEVICE_TYPE_CONCEPT_ID,UNIQUE_DEVICE_ID,QUANTITY,PROVIDER_ID,VISIT_OCCURRENCE_ID,DEVICE_SOURCE_VALUE,DEVICE_SOURCE_CONCEPT_ID\n",
      "\n",
      "CDM_CONDITION_OCCURRENCE 160322 CONDITION_OCCURRENCE_ID,PERSON_ID,CONDITION_CONCEPT_ID,CONDITION_START_DATE,CONDITION_END_DATE,CONDITION_TYPE_CONCEPT_ID,STOP_REASON,PROVIDER_ID,VISIT_OCCURRENCE_ID,CONDITION_SOURCE_VALUE,CONDITION_SOURCE_CONCEPT_ID\n",
      "\n",
      "CDM_DEATH 45 PERSON_ID,DEATH_DATE,DEATH_TYPE_CONCEPT_ID,CAUSE_CONCEPT_ID,CAUSE_SOURCE_VALUE,CAUSE_SOURCE_CONCEPT_ID\n",
      "\n",
      "CDM_OBSERVATION_PERIOD 1048 OBSERVATION_PERIOD_ID,PERSON_ID,OBSERVATION_PERIOD_START_DATE,OBSERVATION_PERIOD_END_DATE,PERIOD_TYPE_CONCEPT_ID\n",
      "\n",
      "CDM_CARE_SITE 20748 CARE_SITE_ID,CARE_SITE_NAME,PLACE_OF_SERVICE_CONCEPT_ID,LOCATION_ID,CARE_SITE_SOURCE_VALUE,PLACE_OF_SERVICE_SOURCE_VALUE\n",
      "\n",
      "CDM_CONDITION_ERA 121386 CONDITION_ERA_ID,PERSON_ID,CONDITION_CONCEPT_ID,CONDITION_ERA_START_DATE,CONDITION_ERA_END_DATE,CONDITION_OCCURRENCE_COUNT\r\n",
      "\n",
      "CDM_VISIT_OCCURRENCE 47457 VISIT_OCCURRENCE_ID,PERSON_ID,VISIT_CONCEPT_ID,VISIT_START_DATE,VISIT_START_TIME,VISIT_END_DATE,VISIT_END_TIME,VISIT_TYPE_CONCEPT_ID,PROVIDER_ID,CARE_SITE_ID,VISIT_SOURCE_VALUE,VISIT_SOURCE_CONCEPT_ID\n",
      "\n",
      "CDM_PROVIDER 35384 PROVIDER_ID,PROVIDER_NAME,NPI,DEA,SPECIALTY_CONCEPT_ID,CARE_SITE_ID,YEAR_OF_BIRTH,GENDER_CONCEPT_ID,PROVIDER_SOURCE_VALUE,SPECIALTY_SOURCE_VALUE,SPECIALTY_SOURCE_CONCEPT_ID,GENDER_SOURCE_VALUE,GENDER_SOURCE_CONCEPT_ID\n",
      "\n",
      "CDM_OBSERVATION 13481 OBSERVATION_ID,PERSON_ID,OBSERVATION_CONCEPT_ID,OBSERVATION_DATE,OBSERVATION_TIME,OBSERVATION_TYPE_CONCEPT_ID,VALUE_AS_NUMBER,VALUE_AS_STRING,VALUE_AS_CONCEPT_ID,QUALIFIER_CONCEPT_ID,UNIT_CONCEPT_ID,PROVIDER_ID,VISIT_OCCURRENCE_ID,OBSERVATION_SOURCE_VALUE,OBSERVATION_SOURCE_CONCEPT_ID,UNIT_SOURCE_VALUE,QUALIFIER_SOURCE_VALUE\n",
      "\n"
     ]
    }
   ],
   "source": [
    "for fname in data:\n",
    "    print fname,len(data[fname]['entries']),data[fname]['keys']"
   ]
  },
  {
   "cell_type": "markdown",
   "metadata": {},
   "source": [
    "## Compiling protobufs"
   ]
  },
  {
   "cell_type": "code",
   "execution_count": 14,
   "metadata": {
    "collapsed": true
   },
   "outputs": [],
   "source": [
    "!protoc --python_out=. ohdsi.proto"
   ]
  },
  {
   "cell_type": "code",
   "execution_count": 19,
   "metadata": {
    "collapsed": true
   },
   "outputs": [],
   "source": [
    "import ohdsi_pb2 as ohdsi"
   ]
  },
  {
   "cell_type": "code",
   "execution_count": 21,
   "metadata": {
    "collapsed": false
   },
   "outputs": [],
   "source": [
    "Person = ohdsi.Person()"
   ]
  },
  {
   "cell_type": "code",
   "execution_count": 22,
   "metadata": {
    "collapsed": true
   },
   "outputs": [],
   "source": [
    "visit = Person.visits.add()"
   ]
  }
 ],
 "metadata": {
  "kernelspec": {
   "display_name": "Python 2",
   "language": "python",
   "name": "python2"
  },
  "language_info": {
   "codemirror_mode": {
    "name": "ipython",
    "version": 2
   },
   "file_extension": ".py",
   "mimetype": "text/x-python",
   "name": "python",
   "nbconvert_exporter": "python",
   "pygments_lexer": "ipython2",
   "version": "2.7.10"
  }
 },
 "nbformat": 4,
 "nbformat_minor": 1
}

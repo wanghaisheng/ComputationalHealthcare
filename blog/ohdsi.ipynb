{
 "cells": [
  {
   "cell_type": "markdown",
   "metadata": {},
   "source": [
    "<center><h1>Exploring protocol buffers for OHDSI Common Data Model</h1></center>"
   ]
  },
  {
   "cell_type": "code",
   "execution_count": 1,
   "metadata": {
    "collapsed": false
   },
   "outputs": [],
   "source": [
    "import glob,gzip\n",
    "from collections import defaultdict\n",
    "def load_data():\n",
    "    data = defaultdict(dict)\n",
    "    for fname in glob.glob('ohdsi_synthetic_data/*.gz'):\n",
    "        with gzip.open(fname) as fh:\n",
    "            fname = fname.split('/')[-1].split('.')[0]\n",
    "            data[fname]['keys'] = fh.readline().strip()\n",
    "            data[fname]['entries'] = [line.strip().split(',') for line in fh]\n",
    "    return data\n",
    "data = load_data()        "
   ]
  },
  {
   "cell_type": "code",
   "execution_count": 15,
   "metadata": {
    "collapsed": false
   },
   "outputs": [
    {
     "name": "stdout",
     "output_type": "stream",
     "text": [
      "-rwxr-xr-x@ 1 aub3  staff   2.5M May 14  2016 \u001b[31mohdsi_synthetic_data/CDM_CONDITION_OCCURRENCE.csv.gz\u001b[m\u001b[m\r\n",
      "-rwxr-xr-x@ 1 aub3  staff   1.1M May 14  2016 \u001b[31mohdsi_synthetic_data/CDM_DRUG_EXPOSURE.csv.gz\u001b[m\u001b[m\r\n",
      "-rwxr-xr-x@ 1 aub3  staff   1.0M May 14  2016 \u001b[31mohdsi_synthetic_data/CDM_VISIT_OCCURRENCE.csv.gz\u001b[m\u001b[m\r\n",
      "-rwxr-xr-x@ 1 aub3  staff   997K May 14  2016 \u001b[31mohdsi_synthetic_data/CDM_CONDITION_ERA.csv.gz\u001b[m\u001b[m\r\n",
      "-rwxr-xr-x@ 1 aub3  staff   989K May 14  2016 \u001b[31mohdsi_synthetic_data/CDM_PROCEDURE_OCCURRENCE.csv.gz\u001b[m\u001b[m\r\n",
      "-rwxr-xr-x@ 1 aub3  staff   510K May 14  2016 \u001b[31mohdsi_synthetic_data/CDM_DRUG_ERA.csv.gz\u001b[m\u001b[m\r\n",
      "-rwxr-xr-x@ 1 aub3  staff   415K May 14  2016 \u001b[31mohdsi_synthetic_data/CDM_PROVIDER.csv.gz\u001b[m\u001b[m\r\n",
      "-rwxr-xr-x@ 1 aub3  staff   205K May 14  2016 \u001b[31mohdsi_synthetic_data/CDM_OBSERVATION.csv.gz\u001b[m\u001b[m\r\n",
      "-rwxr-xr-x@ 1 aub3  staff   173K May 14  2016 \u001b[31mohdsi_synthetic_data/CDM_CARE_SITE.csv.gz\u001b[m\u001b[m\r\n",
      "-rwxr-xr-x@ 1 aub3  staff    43K May 14  2016 \u001b[31mohdsi_synthetic_data/CDM_MEASUREMENT.csv.gz\u001b[m\u001b[m\r\n",
      "-rwxr-xr-x@ 1 aub3  staff    22K May 14  2016 \u001b[31mohdsi_synthetic_data/CDM_DEVICE_EXPOSURE.csv.gz\u001b[m\u001b[m\r\n",
      "-rwxr-xr-x@ 1 aub3  staff    21K May 12  2016 \u001b[31mohdsi_synthetic_data/CDM_PERSON.csv.gz\u001b[m\u001b[m\r\n",
      "-rwxr-xr-x@ 1 aub3  staff   7.0K Jul  6  2015 \u001b[31mohdsi_synthetic_data/CDM_LOCATION.csv.gz\u001b[m\u001b[m\r\n",
      "-rwxr-xr-x@ 1 aub3  staff   5.9K May 16  2016 \u001b[31mohdsi_synthetic_data/CDM_OBSERVATION_PERIOD.csv.gz\u001b[m\u001b[m\r\n",
      "-rwxr-xr-x@ 1 aub3  staff   354B May 14  2016 \u001b[31mohdsi_synthetic_data/CDM_DEATH.csv.gz\u001b[m\u001b[m\r\n"
     ]
    }
   ],
   "source": [
    "!ls -lhS ohdsi_synthetic_data/*.gz"
   ]
  },
  {
   "cell_type": "code",
   "execution_count": 6,
   "metadata": {
    "collapsed": false
   },
   "outputs": [
    {
     "name": "stdout",
     "output_type": "stream",
     "text": [
      "CDM_LOCATION 626 LOCATION_ID,ADDRESS_1,ADDRESS_2,CITY,STATE,ZIP,COUNTY,LOCATION_SOURCE_VALUE\n"
     ]
    }
   ],
   "source": [
    "for fname in data:\n",
    "    print fname,len(data[fname]['entries']),data[fname]['keys']\n",
    "    break"
   ]
  },
  {
   "cell_type": "markdown",
   "metadata": {},
   "source": [
    "## Compiling protobufs"
   ]
  },
  {
   "cell_type": "code",
   "execution_count": 7,
   "metadata": {
    "collapsed": false
   },
   "outputs": [],
   "source": [
    "!protoc --python_out=. ohdsi.proto"
   ]
  },
  {
   "cell_type": "code",
   "execution_count": 8,
   "metadata": {
    "collapsed": true
   },
   "outputs": [],
   "source": [
    "import ohdsi_pb2 as ohdsi"
   ]
  },
  {
   "cell_type": "code",
   "execution_count": 9,
   "metadata": {
    "collapsed": false
   },
   "outputs": [],
   "source": [
    "Person = ohdsi.Person()"
   ]
  },
  {
   "cell_type": "code",
   "execution_count": 10,
   "metadata": {
    "collapsed": true
   },
   "outputs": [],
   "source": [
    "visit = Person.visits.add()"
   ]
  },
  {
   "cell_type": "code",
   "execution_count": null,
   "metadata": {
    "collapsed": true
   },
   "outputs": [],
   "source": []
  }
 ],
 "metadata": {
  "kernelspec": {
   "display_name": "Python 2",
   "language": "python",
   "name": "python2"
  },
  "language_info": {
   "codemirror_mode": {
    "name": "ipython",
    "version": 2
   },
   "file_extension": ".py",
   "mimetype": "text/x-python",
   "name": "python",
   "nbconvert_exporter": "python",
   "pygments_lexer": "ipython2",
   "version": "2.7.10"
  }
 },
 "nbformat": 4,
 "nbformat_minor": 1
}

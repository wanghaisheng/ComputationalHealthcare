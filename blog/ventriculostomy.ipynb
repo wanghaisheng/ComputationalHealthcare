{
 "cells": [
  {
   "cell_type": "markdown",
   "metadata": {},
   "source": [
    "# Long term outcomes in pediatric patients undergoing ventriculostomy\n"
   ]
  },
  {
   "cell_type": "code",
   "execution_count": 1,
   "metadata": {
    "collapsed": false
   },
   "outputs": [
    {
     "name": "stdout",
     "output_type": "stream",
     "text": [
      "Ventriculostomy\n",
      "Code: P022 in Dataset: HCUP CA, FL & NY SID 2006-2011\n",
      "visits 44678\n",
      "By years:\n",
      "[ (2006, 7703),\n",
      "  (2007, 7712),\n",
      "  (2008, 7942),\n",
      "  (2009, 7764),\n",
      "  (2010, 7784),\n",
      "  (2011, 5773)]\n",
      "By states:\n",
      "[('NY', 12383), ('CA', 20375), ('FL', 11920)]\n",
      "By visit type:\n",
      "[(0, 44678)]\n"
     ]
    }
   ],
   "source": [
    "import sys\n",
    "sys.path.append('../')\n",
    "import chlib\n",
    "from chlib.entity import aggregate\n",
    "from chlib.codes import Coder\n",
    "from pprint import pprint \n",
    "from collections import defaultdict\n",
    "reload(chlib)\n",
    "json_config ='../config.json'\n",
    "HCUPSID = chlib.data.Data.get_from_config(json_config,'HCUPSID')\n",
    "HCUPSID.load_codes()\n",
    "code = 'P022'\n",
    "P022 = HCUPSID.get_code('P022')\n",
    "coder = Coder()\n",
    "print coder[code]\n",
    "print P022"
   ]
  },
  {
   "cell_type": "markdown",
   "metadata": {},
   "source": [
    "### Retrieve all patients who underwent the procedure"
   ]
  },
  {
   "cell_type": "code",
   "execution_count": 2,
   "metadata": {
    "collapsed": false
   },
   "outputs": [
    {
     "name": "stdout",
     "output_type": "stream",
     "text": [
      "Number of patients 36378\n"
     ]
    }
   ],
   "source": [
    "patients = [p for _,p in HCUPSID.iter_patients_by_code('P022') if p.linked]\n",
    "print \"Number of patients {}\".format(len(patients))"
   ]
  },
  {
   "cell_type": "markdown",
   "metadata": {},
   "source": [
    "### Set up selection criteria Age < 19 years and underwent Ventriculostomy in 2006"
   ]
  },
  {
   "cell_type": "code",
   "execution_count": 3,
   "metadata": {
    "collapsed": false
   },
   "outputs": [
    {
     "name": "stdout",
     "output_type": "stream",
     "text": [
      "Number of patients who underwent P022 during 2006, at age < 19 or younger is 754\n"
     ]
    }
   ],
   "source": [
    "def criteria(p):\n",
    "    if p.visits[0].age < 19: # the patient is younger than 19 years during first visit recorded for the patient \n",
    "        for v in p.visits: # iterate over all visits\n",
    "            for pr in v.prs: # iterate over all procedures\n",
    "                if pr.pcode == code and v.year == 2006: # if there is a procedure during 2006 return True\n",
    "                    return True\n",
    "    return False\n",
    "P022_in_2006 = filter(criteria,patients) # filter list of patients using above criteria\n",
    "print \"Number of patients who underwent {} during 2006, at age < 19 or younger is {}\".format(code,len(P022_in_2006))"
   ]
  },
  {
   "cell_type": "markdown",
   "metadata": {},
   "source": [
    "### Out of those patients how may appear in subsequent years and how often are they hospitalized"
   ]
  },
  {
   "cell_type": "code",
   "execution_count": 4,
   "metadata": {
    "collapsed": false
   },
   "outputs": [
    {
     "name": "stdout",
     "output_type": "stream",
     "text": [
      "year patients \tinpatient visits\n",
      "2006\t754\t  1907\n",
      "2007\t256\t  674\n",
      "2008\t144\t  299\n",
      "2009\t125\t  242\n",
      "2010\t104\t  198\n",
      "2011\t85\t  172\n"
     ]
    }
   ],
   "source": [
    "patients_years = defaultdict(set)\n",
    "visits_years = defaultdict(int)\n",
    "for p in P022_in_2006:\n",
    "    for v in p.visits:\n",
    "        patients_years[v.year].add(p.patient_key)\n",
    "        visits_years[v.year] += 1\n",
    "            \n",
    "print \"year\",\"patients\",\"\\tinpatient visits\"\n",
    "for k in sorted([(k,len(v),visits_years[k]) for k,v in patients_years.iteritems()]):\n",
    "    print \"{}\\t{}\\t  {}\".format(k[0],k[1],k[2])"
   ]
  },
  {
   "cell_type": "markdown",
   "metadata": {},
   "source": [
    "### Filtering further to select only patients/visits in 2011 ( approximately > 4 years )"
   ]
  },
  {
   "cell_type": "code",
   "execution_count": 5,
   "metadata": {
    "collapsed": false
   },
   "outputs": [],
   "source": [
    "def criteria_2011(p):\n",
    "    for v in p.visits:\n",
    "        if v.year == 2011:\n",
    "            return True\n",
    "    return False\n",
    "\n",
    "def remove_visits_before_2011(p):\n",
    "    temp = [v for v in p.visits if v.year == 2011]\n",
    "    del p.visits[:]\n",
    "    p.visits.extend(temp)\n",
    "    return p\n",
    "\n",
    "P022_in_2006_and_2011 =[remove_visits_before_2011(p) for p in filter(criteria_2011,P022_in_2006)]"
   ]
  },
  {
   "cell_type": "markdown",
   "metadata": {},
   "source": [
    "### Compute Aggregate Statistics on those patients"
   ]
  },
  {
   "cell_type": "code",
   "execution_count": 6,
   "metadata": {
    "collapsed": false
   },
   "outputs": [],
   "source": [
    "pagg = aggregate.PAggregate()\n",
    "pagg.init_compute(\"temp\",\"temp\",aggregate.Policy(min_count=10,min_hospital=2,min_subset=20,base=10)) \n",
    "for p in P022_in_2006_and_2011:\n",
    "    pagg.add_patient(p)\n",
    "results_available = pagg.end_compute()"
   ]
  },
  {
   "cell_type": "markdown",
   "metadata": {},
   "source": [
    "### Primary and Secondary Diagnoses during 2011"
   ]
  },
  {
   "cell_type": "code",
   "execution_count": 7,
   "metadata": {
    "collapsed": false,
    "scrolled": false
   },
   "outputs": [
    {
     "name": "stdout",
     "output_type": "stream",
     "text": [
      "0\t40\tObstructive hydrocephalus\n",
      "0\t10\tCongenital hydrocephalus\n",
      "10\t20\tMechanical complication of nervous system device, implant, and graft\n",
      "0\t20\tInfantile cerebral palsy, unspecified\n",
      "0\t10\tUnspecified acquired hypothyroidism\n",
      "0\t60\tPresence of cerebrospinal fluid drainage device\n",
      "0\t10\tEsophageal reflux\n",
      "20\t20\tEncounter for antineoplastic chemotherapy\n",
      "0\t10\tOther specified delays in development\n",
      "10\t50\tEpilepsy, unspecified, without mention of intractable epilepsy\n",
      "0\t10\tLack of normal physiological development, unspecified\n",
      "0\t10\tUnspecified intellectual disabilities\n",
      "0\t30\tGastrostomy status\n",
      "0\t10\tCongenital quadriplegia\n",
      "0\t20\tAsthma, unspecified type, unspecified\n"
     ]
    }
   ],
   "source": [
    "for s in pagg.obj.subsets:\n",
    "    for dx in s.subset.dxh:\n",
    "        print u\"{}\\t{}\\t{}\".format(dx.primary,dx.all,coder[dx.k])"
   ]
  },
  {
   "cell_type": "markdown",
   "metadata": {},
   "source": [
    "### Inpatient procedures during 2011"
   ]
  },
  {
   "cell_type": "code",
   "execution_count": 8,
   "metadata": {
    "collapsed": false
   },
   "outputs": [
    {
     "name": "stdout",
     "output_type": "stream",
     "text": [
      "10\tEnteral infusion of concentrated nutritional substances\n",
      "10\tReplacement of ventricular shunt\n",
      "10\tVenous catheterization, not elsewhere classified\n"
     ]
    }
   ],
   "source": [
    "for s in pagg.obj.subsets:\n",
    "    for pr in s.subset.prh:\n",
    "        print \"{}\\t{}\".format(pr.v,coder[pr.k])"
   ]
  }
 ],
 "metadata": {
  "kernelspec": {
   "display_name": "Python 2",
   "language": "python",
   "name": "python2"
  },
  "language_info": {
   "codemirror_mode": {
    "name": "ipython",
    "version": 2
   },
   "file_extension": ".py",
   "mimetype": "text/x-python",
   "name": "python",
   "nbconvert_exporter": "python",
   "pygments_lexer": "ipython2",
   "version": "2.7.10"
  }
 },
 "nbformat": 4,
 "nbformat_minor": 0
}
